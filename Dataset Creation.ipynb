{
 "cells": [
  {
   "cell_type": "code",
   "execution_count": null,
   "metadata": {},
   "outputs": [],
   "source": [
    "import cv2\n",
    "import os\n",
    "import sys\n",
    "import numpy as np\n",
    "import tensorflow as tf"
   ]
  },
  {
   "cell_type": "code",
   "execution_count": null,
   "metadata": {},
   "outputs": [],
   "source": [
    "#Code to capture and save images of foot in a folder named foot\n",
    "\n",
    "PATH = 'F:\\dataset\\\\'\n",
    "cap = cv2.VideoCapture(0)\n",
    "\n",
    "label = 'foot'\n",
    "\n",
    "SAVE_PATH = os.path.join(PATH, label)\n",
    "\n",
    "try:\n",
    "    os.mkdir(SAVE_PATH)\n",
    "except FileExistsError:\n",
    "    pass\n",
    "\n",
    "ct = int(input(\"initial count\"))\n",
    "maxCt = int(input(\"max count\")) + 1\n",
    "print(\"Hit Space to Capture Image\")\n",
    "\n",
    "while True:\n",
    "        \n",
    "    ret, frame = cap.read()\n",
    "    if frame is None:\n",
    "        continue\n",
    "    cv2.imshow('Get Data : ' + label, frame[50:350,100:450])\n",
    "    if cv2.waitKey(1) & 0xFF == ord(' '):\n",
    "        cv2.imwrite(SAVE_PATH + '\\\\' + label + '{}.jpg'.format(ct), frame[50:350,100:450])\n",
    "        print(SAVE_PATH + '\\\\' + label + '{}.jpg Captured'.format(ct))\n",
    "        ct+=1\n",
    "    if ct >= maxCt:\n",
    "        break\n",
    "\n",
    "cap.release()\n",
    "cv2.destroyAllWindows()"
   ]
  },
  {
   "cell_type": "code",
   "execution_count": null,
   "metadata": {},
   "outputs": [],
   "source": [
    "#Code to capture and save images of objecta that are not a foot in a folder named notfoot\n",
    "\n",
    "PATH = 'F:\\dataset\\\\'\n",
    "cap = cv2.VideoCapture(0)\n",
    "\n",
    "label = 'notfoot'\n",
    "\n",
    "SAVE_PATH = os.path.join(PATH, label)\n",
    "\n",
    "try:\n",
    "    os.mkdir(SAVE_PATH)\n",
    "except FileExistsError:\n",
    "    pass\n",
    "\n",
    "ct = int(input(\"initial count\"))\n",
    "maxCt = int(input(\"max count\")) + 1\n",
    "print(\"Hit Space to Capture Image\")\n",
    "\n",
    "while True:\n",
    "        \n",
    "    ret, frame = cap.read()\n",
    "    if frame is None:\n",
    "        continue\n",
    "    cv2.imshow('Get Data : ' + label, frame[50:350,100:450])\n",
    "    if cv2.waitKey(1) & 0xFF == ord(' '):\n",
    "        cv2.imwrite(SAVE_PATH + '\\\\' + label + '{}.jpg'.format(ct), frame[50:350,100:450])\n",
    "        print(SAVE_PATH + '\\\\' + label + '{}.jpg Captured'.format(ct))\n",
    "        ct+=1\n",
    "    if ct >= maxCt:\n",
    "        break\n",
    "\n",
    "cap.release()\n",
    "cv2.destroyAllWindows()"
   ]
  }
 ],
 "metadata": {
  "kernelspec": {
   "display_name": "Python 3",
   "language": "python",
   "name": "python3"
  },
  "language_info": {
   "codemirror_mode": {
    "name": "ipython",
    "version": 3
   },
   "file_extension": ".py",
   "mimetype": "text/x-python",
   "name": "python",
   "nbconvert_exporter": "python",
   "pygments_lexer": "ipython3",
   "version": "3.8.5"
  }
 },
 "nbformat": 4,
 "nbformat_minor": 4
}
